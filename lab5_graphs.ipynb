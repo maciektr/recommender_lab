{
 "cells": [
  {
   "cell_type": "markdown",
   "metadata": {},
   "source": [
    "# Laboratorium 5 - rekomendacje grafowe\n",
    "\n",
    "## Przygotowanie\n",
    "\n",
    " * dataset i potrzebne biblioteki są dokładnie takie same jak na poprzednim laboratorium\n",
    " * pobierz i wypakuj dataset: https://files.grouplens.org/datasets/movielens/ml-latest-small.zip\n",
    "   * więcej możesz poczytać tutaj: https://grouplens.org/datasets/movielens/\n",
    " * [opcjonalnie] Utwórz wirtualne środowisko\n",
    " `python3 -m venv ./recsyslab5`\n",
    " * zainstaluj potrzebne biblioteki:\n",
    " `pip install numpy pandas sklearn gensim==3.8.3`"
   ]
  },
  {
   "cell_type": "markdown",
   "metadata": {},
   "source": [
    "## Część 1. - przygotowanie danych"
   ]
  },
  {
   "cell_type": "code",
   "execution_count": 45,
   "metadata": {},
   "outputs": [],
   "source": [
    "# importujemy wszystkie potrzebne pakiety\n",
    "\n",
    "import math\n",
    "import random\n",
    "import numpy as np\n",
    "import pandas\n",
    "\n",
    "from gensim.models import Word2Vec\n",
    "\n",
    "from sklearn.model_selection import train_test_split, KFold"
   ]
  },
  {
   "cell_type": "code",
   "execution_count": 46,
   "metadata": {},
   "outputs": [],
   "source": [
    "SCORE_THRESHOLD = 4.0 # recenzje z co najmniej taka ocena wezmiemy pod uwage\n",
    "VECTOR_SIZE = 20 # jak dlugie powinny byc wektory osadzen wierzcholkow\n",
    "NEIGHBOURS_WINDOW = 11 # tylu sasiadow wezmiemy pod uwage w algorytmie Word2Vec (symetrycznie i wliczajac biezacy element)\n",
    "PATH_LENGTH = 30 # dlugosc pojedynczej losowej sciezki\n",
    "PATHS_COUNT_PER_NODE = 20 # liczba losowych sciezek zaczynajacych sie w kazdym z wierzcholkow"
   ]
  },
  {
   "cell_type": "code",
   "execution_count": 47,
   "metadata": {},
   "outputs": [
    {
     "data": {
      "text/html": [
       "<div>\n",
       "<style scoped>\n",
       "    .dataframe tbody tr th:only-of-type {\n",
       "        vertical-align: middle;\n",
       "    }\n",
       "\n",
       "    .dataframe tbody tr th {\n",
       "        vertical-align: top;\n",
       "    }\n",
       "\n",
       "    .dataframe thead th {\n",
       "        text-align: right;\n",
       "    }\n",
       "</style>\n",
       "<table border=\"1\" class=\"dataframe\">\n",
       "  <thead>\n",
       "    <tr style=\"text-align: right;\">\n",
       "      <th></th>\n",
       "      <th>userId</th>\n",
       "      <th>movieId</th>\n",
       "      <th>rating</th>\n",
       "    </tr>\n",
       "  </thead>\n",
       "  <tbody>\n",
       "    <tr>\n",
       "      <th>0</th>\n",
       "      <td>u_1</td>\n",
       "      <td>m_1</td>\n",
       "      <td>4.0</td>\n",
       "    </tr>\n",
       "    <tr>\n",
       "      <th>1</th>\n",
       "      <td>u_1</td>\n",
       "      <td>m_3</td>\n",
       "      <td>4.0</td>\n",
       "    </tr>\n",
       "    <tr>\n",
       "      <th>2</th>\n",
       "      <td>u_1</td>\n",
       "      <td>m_6</td>\n",
       "      <td>4.0</td>\n",
       "    </tr>\n",
       "    <tr>\n",
       "      <th>3</th>\n",
       "      <td>u_1</td>\n",
       "      <td>m_47</td>\n",
       "      <td>5.0</td>\n",
       "    </tr>\n",
       "    <tr>\n",
       "      <th>4</th>\n",
       "      <td>u_1</td>\n",
       "      <td>m_50</td>\n",
       "      <td>5.0</td>\n",
       "    </tr>\n",
       "    <tr>\n",
       "      <th>...</th>\n",
       "      <td>...</td>\n",
       "      <td>...</td>\n",
       "      <td>...</td>\n",
       "    </tr>\n",
       "    <tr>\n",
       "      <th>100830</th>\n",
       "      <td>u_610</td>\n",
       "      <td>m_166528</td>\n",
       "      <td>4.0</td>\n",
       "    </tr>\n",
       "    <tr>\n",
       "      <th>100831</th>\n",
       "      <td>u_610</td>\n",
       "      <td>m_166534</td>\n",
       "      <td>4.0</td>\n",
       "    </tr>\n",
       "    <tr>\n",
       "      <th>100832</th>\n",
       "      <td>u_610</td>\n",
       "      <td>m_168248</td>\n",
       "      <td>5.0</td>\n",
       "    </tr>\n",
       "    <tr>\n",
       "      <th>100833</th>\n",
       "      <td>u_610</td>\n",
       "      <td>m_168250</td>\n",
       "      <td>5.0</td>\n",
       "    </tr>\n",
       "    <tr>\n",
       "      <th>100834</th>\n",
       "      <td>u_610</td>\n",
       "      <td>m_168252</td>\n",
       "      <td>5.0</td>\n",
       "    </tr>\n",
       "  </tbody>\n",
       "</table>\n",
       "<p>48580 rows × 3 columns</p>\n",
       "</div>"
      ],
      "text/plain": [
       "       userId   movieId  rating\n",
       "0         u_1       m_1     4.0\n",
       "1         u_1       m_3     4.0\n",
       "2         u_1       m_6     4.0\n",
       "3         u_1      m_47     5.0\n",
       "4         u_1      m_50     5.0\n",
       "...       ...       ...     ...\n",
       "100830  u_610  m_166528     4.0\n",
       "100831  u_610  m_166534     4.0\n",
       "100832  u_610  m_168248     5.0\n",
       "100833  u_610  m_168250     5.0\n",
       "100834  u_610  m_168252     5.0\n",
       "\n",
       "[48580 rows x 3 columns]"
      ]
     },
     "execution_count": 47,
     "metadata": {},
     "output_type": "execute_result"
    }
   ],
   "source": [
    "# wczytujemy oceny uytkownikow\n",
    "\n",
    "ratings = pandas.read_csv('ml-latest-small/ratings.csv').drop(columns=['timestamp'])\n",
    "ratings = ratings.where(ratings['rating'] >= SCORE_THRESHOLD).dropna()\n",
    "# rozszerzamy ID tak, by sie nie powtarzaly\n",
    "ratings['userId'] = ratings['userId'].apply(lambda x: 'u_' + str(int(x)))\n",
    "ratings['movieId'] = ratings['movieId'].apply(lambda x: 'm_' + str(int(x)))\n",
    "ratings"
   ]
  },
  {
   "cell_type": "code",
   "execution_count": 48,
   "metadata": {},
   "outputs": [
    {
     "data": {
      "text/html": [
       "<div>\n",
       "<style scoped>\n",
       "    .dataframe tbody tr th:only-of-type {\n",
       "        vertical-align: middle;\n",
       "    }\n",
       "\n",
       "    .dataframe tbody tr th {\n",
       "        vertical-align: top;\n",
       "    }\n",
       "\n",
       "    .dataframe thead th {\n",
       "        text-align: right;\n",
       "    }\n",
       "</style>\n",
       "<table border=\"1\" class=\"dataframe\">\n",
       "  <thead>\n",
       "    <tr style=\"text-align: right;\">\n",
       "      <th></th>\n",
       "      <th>movieId</th>\n",
       "      <th>genre</th>\n",
       "    </tr>\n",
       "  </thead>\n",
       "  <tbody>\n",
       "    <tr>\n",
       "      <th>0</th>\n",
       "      <td>m_1</td>\n",
       "      <td>g_adventure</td>\n",
       "    </tr>\n",
       "    <tr>\n",
       "      <th>0</th>\n",
       "      <td>m_1</td>\n",
       "      <td>g_animation</td>\n",
       "    </tr>\n",
       "    <tr>\n",
       "      <th>0</th>\n",
       "      <td>m_1</td>\n",
       "      <td>g_children</td>\n",
       "    </tr>\n",
       "    <tr>\n",
       "      <th>0</th>\n",
       "      <td>m_1</td>\n",
       "      <td>g_comedy</td>\n",
       "    </tr>\n",
       "    <tr>\n",
       "      <th>0</th>\n",
       "      <td>m_1</td>\n",
       "      <td>g_fantasy</td>\n",
       "    </tr>\n",
       "    <tr>\n",
       "      <th>...</th>\n",
       "      <td>...</td>\n",
       "      <td>...</td>\n",
       "    </tr>\n",
       "    <tr>\n",
       "      <th>9738</th>\n",
       "      <td>m_193583</td>\n",
       "      <td>g_fantasy</td>\n",
       "    </tr>\n",
       "    <tr>\n",
       "      <th>9739</th>\n",
       "      <td>m_193585</td>\n",
       "      <td>g_drama</td>\n",
       "    </tr>\n",
       "    <tr>\n",
       "      <th>9740</th>\n",
       "      <td>m_193587</td>\n",
       "      <td>g_action</td>\n",
       "    </tr>\n",
       "    <tr>\n",
       "      <th>9740</th>\n",
       "      <td>m_193587</td>\n",
       "      <td>g_animation</td>\n",
       "    </tr>\n",
       "    <tr>\n",
       "      <th>9741</th>\n",
       "      <td>m_193609</td>\n",
       "      <td>g_comedy</td>\n",
       "    </tr>\n",
       "  </tbody>\n",
       "</table>\n",
       "<p>22084 rows × 2 columns</p>\n",
       "</div>"
      ],
      "text/plain": [
       "       movieId        genre\n",
       "0          m_1  g_adventure\n",
       "0          m_1  g_animation\n",
       "0          m_1   g_children\n",
       "0          m_1     g_comedy\n",
       "0          m_1    g_fantasy\n",
       "...        ...          ...\n",
       "9738  m_193583    g_fantasy\n",
       "9739  m_193585      g_drama\n",
       "9740  m_193587     g_action\n",
       "9740  m_193587  g_animation\n",
       "9741  m_193609     g_comedy\n",
       "\n",
       "[22084 rows x 2 columns]"
      ]
     },
     "execution_count": 48,
     "metadata": {},
     "output_type": "execute_result"
    }
   ],
   "source": [
    "# wczytujemy gatunki filmow\n",
    "\n",
    "movies = pandas.read_csv('ml-latest-small/movies.csv').drop(columns=['title'])\n",
    "movies['movieId'] = movies['movieId'].apply(lambda x: 'm_' + str(int(x)))\n",
    "movies['genres'] = movies['genres'].apply(lambda x: x.split('|'))\n",
    "movies_to_genres = movies.explode('genres')\n",
    "movies_to_genres['genres'] = movies_to_genres['genres'].apply(lambda x: 'g_' + x.lower())\n",
    "movies_to_genres = movies_to_genres.rename(columns = {'genres': 'genre'})\n",
    "movies_to_genres"
   ]
  },
  {
   "cell_type": "code",
   "execution_count": 49,
   "metadata": {},
   "outputs": [],
   "source": [
    "users = ratings['userId'].unique()\n",
    "movies = ratings['movieId'].unique()\n",
    "genres = movies_to_genres['genre'].unique()"
   ]
  },
  {
   "cell_type": "code",
   "execution_count": 60,
   "metadata": {},
   "outputs": [
    {
     "data": {
      "text/html": [
       "<div>\n",
       "<style scoped>\n",
       "    .dataframe tbody tr th:only-of-type {\n",
       "        vertical-align: middle;\n",
       "    }\n",
       "\n",
       "    .dataframe tbody tr th {\n",
       "        vertical-align: top;\n",
       "    }\n",
       "\n",
       "    .dataframe thead th {\n",
       "        text-align: right;\n",
       "    }\n",
       "</style>\n",
       "<table border=\"1\" class=\"dataframe\">\n",
       "  <thead>\n",
       "    <tr style=\"text-align: right;\">\n",
       "      <th></th>\n",
       "      <th>title</th>\n",
       "    </tr>\n",
       "    <tr>\n",
       "      <th>movieId</th>\n",
       "      <th></th>\n",
       "    </tr>\n",
       "  </thead>\n",
       "  <tbody>\n",
       "    <tr>\n",
       "      <th>m_1</th>\n",
       "      <td>Toy Story (1995)</td>\n",
       "    </tr>\n",
       "    <tr>\n",
       "      <th>m_2</th>\n",
       "      <td>Jumanji (1995)</td>\n",
       "    </tr>\n",
       "    <tr>\n",
       "      <th>m_3</th>\n",
       "      <td>Grumpier Old Men (1995)</td>\n",
       "    </tr>\n",
       "    <tr>\n",
       "      <th>m_4</th>\n",
       "      <td>Waiting to Exhale (1995)</td>\n",
       "    </tr>\n",
       "    <tr>\n",
       "      <th>m_5</th>\n",
       "      <td>Father of the Bride Part II (1995)</td>\n",
       "    </tr>\n",
       "    <tr>\n",
       "      <th>...</th>\n",
       "      <td>...</td>\n",
       "    </tr>\n",
       "    <tr>\n",
       "      <th>m_193581</th>\n",
       "      <td>Black Butler: Book of the Atlantic (2017)</td>\n",
       "    </tr>\n",
       "    <tr>\n",
       "      <th>m_193583</th>\n",
       "      <td>No Game No Life: Zero (2017)</td>\n",
       "    </tr>\n",
       "    <tr>\n",
       "      <th>m_193585</th>\n",
       "      <td>Flint (2017)</td>\n",
       "    </tr>\n",
       "    <tr>\n",
       "      <th>m_193587</th>\n",
       "      <td>Bungo Stray Dogs: Dead Apple (2018)</td>\n",
       "    </tr>\n",
       "    <tr>\n",
       "      <th>m_193609</th>\n",
       "      <td>Andrew Dice Clay: Dice Rules (1991)</td>\n",
       "    </tr>\n",
       "  </tbody>\n",
       "</table>\n",
       "<p>9742 rows × 1 columns</p>\n",
       "</div>"
      ],
      "text/plain": [
       "                                              title\n",
       "movieId                                            \n",
       "m_1                                Toy Story (1995)\n",
       "m_2                                  Jumanji (1995)\n",
       "m_3                         Grumpier Old Men (1995)\n",
       "m_4                        Waiting to Exhale (1995)\n",
       "m_5              Father of the Bride Part II (1995)\n",
       "...                                             ...\n",
       "m_193581  Black Butler: Book of the Atlantic (2017)\n",
       "m_193583               No Game No Life: Zero (2017)\n",
       "m_193585                               Flint (2017)\n",
       "m_193587        Bungo Stray Dogs: Dead Apple (2018)\n",
       "m_193609        Andrew Dice Clay: Dice Rules (1991)\n",
       "\n",
       "[9742 rows x 1 columns]"
      ]
     },
     "execution_count": 60,
     "metadata": {},
     "output_type": "execute_result"
    }
   ],
   "source": [
    "movies_to_title = pandas.read_csv('ml-latest-small/movies.csv').drop(columns=['genres'])\n",
    "movies_to_title['movieId'] = movies_to_title['movieId'].apply(lambda x: 'm_' + str(int(x)))\n",
    "movies_to_title = movies_to_title.set_index('movieId')\n",
    "movies_to_title"
   ]
  },
  {
   "cell_type": "markdown",
   "metadata": {},
   "source": [
    "## Część 2. - spacer po grafie"
   ]
  },
  {
   "cell_type": "code",
   "execution_count": 20,
   "metadata": {
    "scrolled": true
   },
   "outputs": [],
   "source": [
    "# generujemy losowe sciezki w grafie\n",
    "#   krawedzie reprezentowane sa w dwoch macierzach - ratings i movies\n",
    "#   w wersji podstawowej wszystkie krawedzie traktujemy jako niewazone i nieskierowane\n",
    "#   mozliwe ulepszenia:\n",
    "#    - rozwazenie krawedzi skierowanych\n",
    "#    - uwzglednienie wag krawedzi (ocen uzytkownikow)\n",
    "#    - jakas forma normalizacji - obnizenia wag wierzcholkow o wysokich stopniach\n",
    "#    - Node2Vec - parametry P i Q\n",
    "# wynikiem powinna byc lista list - kazda z tych list zawiera kolejne ID wierzcholkow na sciezce    \n",
    "from functools import reduce\n",
    "\n",
    "nodes = users.tolist()\n",
    "nodes.extend(movies.tolist())\n",
    "nodes.extend(genres.tolist())\n",
    "\n",
    "np_ratings = ratings.to_numpy()\n",
    "np_movies_to_genres = movies_to_genres.to_numpy()\n",
    "    \n",
    "def get_edges():\n",
    "    b = np.hstack((np_movies_to_genres, np.zeros((np_movies_to_genres.shape[0], 1), dtype=np_movies_to_genres.dtype)))\n",
    "    b[:, [0,1]] = b[:, [1,0]]\n",
    "    edges = np.vstack((b, np_ratings))\n",
    "    edges_swapped = edges.copy()\n",
    "    edges_swapped[:, [0,1]] = edges_swapped[:, [1,0]]\n",
    "    edges = np.vstack((edges, edges_swapped))\n",
    "    return edges\n",
    "    \n",
    "edges = get_edges()\n",
    "edges_from_node = {}\n",
    "\n",
    "def next_node(node):\n",
    "    if not node in edges_from_node:\n",
    "        edges_from_node[node] = edges[np.where(edges[:,1] == node)[0]][:, 0]\n",
    "    edge = np.random.choice(edges_from_node[node])\n",
    "    return edge    \n",
    "    \n",
    "def get_path(node):\n",
    "    return [node] + [node := next_node(node) for _ in range(PATH_LENGTH)]\n",
    "\n",
    "def get_paths(node):\n",
    "    return [get_path(node) for _ in range(PATHS_COUNT_PER_NODE)]"
   ]
  },
  {
   "cell_type": "code",
   "execution_count": 21,
   "metadata": {
    "scrolled": false
   },
   "outputs": [],
   "source": [
    "import multiprocess as mp\n",
    "\n",
    "paths = []\n",
    "with mp.Pool(processes=8) as p:\n",
    "    l = p.map(get_paths, nodes)\n",
    "    paths = reduce(lambda x, y: x+y, l)"
   ]
  },
  {
   "cell_type": "markdown",
   "metadata": {},
   "source": [
    "## Część 3. - obliczenie osadzeń"
   ]
  },
  {
   "cell_type": "code",
   "execution_count": 25,
   "metadata": {},
   "outputs": [],
   "source": [
    "# trenujemy model\n",
    "#   zauwaz, ze wszystkie trzy rodzaje wierzcholkow beda reprezentowane tak samo, w tej samej przestrzeni\n",
    "\n",
    "model = Word2Vec(sentences=paths, size=VECTOR_SIZE, window=NEIGHBOURS_WINDOW, min_count=1, workers=4)\n",
    "embeddings = model.wv"
   ]
  },
  {
   "cell_type": "markdown",
   "metadata": {},
   "source": [
    "## Część 4. - rekomendacje i zastosowania"
   ]
  },
  {
   "cell_type": "code",
   "execution_count": 26,
   "metadata": {},
   "outputs": [],
   "source": [
    "PULP_FICTION = 'm_296'\n",
    "TOY_STORY = 'm_1'\n",
    "PLANET_OF_THE_APES = 'm_2529'"
   ]
  },
  {
   "cell_type": "code",
   "execution_count": 29,
   "metadata": {},
   "outputs": [
    {
     "data": {
      "text/plain": [
       "array([ 3.9171317 ,  0.31117243,  4.140499  ,  5.406548  , -9.999408  ,\n",
       "       -0.7102429 , -5.3674626 ,  3.0218813 ,  2.2469797 , -3.0358868 ,\n",
       "        3.4642434 , -5.2033367 , -1.9366151 , 10.775511  , -3.0510905 ,\n",
       "        3.274083  ,  4.9235272 , -4.4009027 , -8.200265  ,  3.2142394 ],\n",
       "      dtype=float32)"
      ]
     },
     "execution_count": 29,
     "metadata": {},
     "output_type": "execute_result"
    }
   ],
   "source": [
    "embeddings[PULP_FICTION]"
   ]
  },
  {
   "cell_type": "code",
   "execution_count": 199,
   "metadata": {
    "scrolled": true
   },
   "outputs": [],
   "source": [
    "# wyszukajmy K najpodobniejszych filmów do danego\n",
    "# porownaj wyniki dla odleglosci euklidesowej i cosinuswej, np. na trzech powyzszych filmach\n",
    "\n",
    "def euclidian_distance(i, j):\n",
    "    return np.sum(np.power((i-j), 2))\n",
    "\n",
    "def cosine_distance(i, j):\n",
    "    return np.dot(i, j)/np.linalg.norm(i)/np.linalg.norm(j)\n",
    "\n",
    "def k_most_similar_movies(movie_id, K, embeddings, distance_fun):\n",
    "    distances = [(mid, distance_fun(embeddings[movie_id], embeddings[mid])) for mid in movies] \n",
    "    k_most_similar = list(map(lambda x: x[0], sorted(distances, key=lambda x: x[1])[:K]))\n",
    "    return k_most_similar"
   ]
  },
  {
   "cell_type": "code",
   "execution_count": 111,
   "metadata": {},
   "outputs": [],
   "source": [
    "def print_titles(k_most):\n",
    "    print('\\n'.join([f'{mid}: {movies_to_title.loc[mid].title} ' for mid in k_most]))"
   ]
  },
  {
   "cell_type": "code",
   "execution_count": null,
   "metadata": {},
   "outputs": [],
   "source": [
    "movies_to_genres = movies_to_genres.set_index('movieId')"
   ]
  },
  {
   "cell_type": "code",
   "execution_count": 200,
   "metadata": {},
   "outputs": [],
   "source": [
    "def print_genres(movies):\n",
    "    for mid in movies:\n",
    "        gen = movies_to_genres.loc[mid]['genre']\n",
    "        print(mid, ':', str([gen]) if isinstance(gen, str) else str(gen.to_list()))"
   ]
  },
  {
   "cell_type": "code",
   "execution_count": 201,
   "metadata": {
    "scrolled": false
   },
   "outputs": [
    {
     "name": "stdout",
     "output_type": "stream",
     "text": [
      "Movie: Pulp Fiction (1994), method: euclidian_distance\n",
      "m_296: Pulp Fiction (1994) \n",
      "m_593: Silence of the Lambs, The (1991) \n",
      "m_47: Seven (a.k.a. Se7en) (1995) \n",
      "m_50: Usual Suspects, The (1995) \n",
      "m_318: Shawshank Redemption, The (1994) \n",
      "Movie: Pulp Fiction (1994), method: cosine_distance\n",
      "m_73822: Meantime (1984) \n",
      "m_180045: Molly's Game (2017) \n",
      "m_118862: Closer to the Moon (2013) \n",
      "m_795: Somebody to Love (1994) \n",
      "m_164707: Go Figure (2005) \n",
      "Movie: Toy Story (1995), method: euclidian_distance\n",
      "m_1: Toy Story (1995) \n",
      "m_1073: Willy Wonka & the Chocolate Factory (1971) \n",
      "m_364: Lion King, The (1994) \n",
      "m_588: Aladdin (1992) \n",
      "m_260: Star Wars: Episode IV - A New Hope (1977) \n",
      "Movie: Toy Story (1995), method: cosine_distance\n",
      "m_116411: Tangerines (2013) \n",
      "m_6376: Respiro (2002) \n",
      "m_4883: Town is Quiet, The (Ville est tranquille, La) (2000) \n",
      "m_183199: Quest (2017) \n",
      "m_107408: Only Old Men Are Going to Battle (V boy idut odni stariki) (1973) \n",
      "Movie: Planet of the Apes (1968), method: euclidian_distance\n",
      "m_2529: Planet of the Apes (1968) \n",
      "m_1287: Ben-Hur (1959) \n",
      "m_2947: Goldfinger (1964) \n",
      "m_1253: Day the Earth Stood Still, The (1951) \n",
      "m_1372: Star Trek VI: The Undiscovered Country (1991) \n",
      "Movie: Planet of the Apes (1968), method: cosine_distance\n",
      "m_169034: Lemonade (2016) \n",
      "m_1703: For Richer or Poorer (1997) \n",
      "m_82053: Casino Jack (2010) \n",
      "m_131724: The Jinx: The Life and Deaths of Robert Durst (2015) \n",
      "m_120813: Patton Oswalt: My Weakness Is Strong (2009) \n"
     ]
    }
   ],
   "source": [
    "k = 5\n",
    "method_name = {\n",
    "    cosine_distance: 'cosine_distance',\n",
    "    euclidian_distance: 'euclidian_distance'\n",
    "}\n",
    "for movie in [PULP_FICTION, TOY_STORY,PLANET_OF_THE_APES]:\n",
    "    for method in [euclidian_distance, cosine_distance]:\n",
    "        k_most = k_most_similar_movies(movie, k, embeddings, method)\n",
    "        print(f\"Movie: {movies_to_title.loc[movie].title}, method: {method_name[method]}\")\n",
    "        print_titles(k_most)"
   ]
  },
  {
   "cell_type": "code",
   "execution_count": 202,
   "metadata": {},
   "outputs": [],
   "source": [
    "# wyszukajmy k filmow najblizszych uzytkownikowi\n",
    "# wykorzystaj funkcje z poprzedniej komorki\n",
    "\n",
    "def k_best_movies_for_user(user_id, K, embeddings, distance_fun):\n",
    "    return k_most_similar_movies(user_id, K, embeddings, distance_fun)"
   ]
  },
  {
   "cell_type": "code",
   "execution_count": 203,
   "metadata": {},
   "outputs": [],
   "source": [
    "def k_most_similar_from_favourite_genre(user_id, K, embeddings, distance_fun):\n",
    "    genre_distances = [(gid, distance_fun(embeddings[user_id], embeddings[gid])) for gid in genres] \n",
    "    genre = sorted(genre_distances, key=lambda x: x[1])[0][0]\n",
    "    print('Favourite genre ', genre)\n",
    "    return k_most_similar_movies(genre, K, embeddings, distance_fun)"
   ]
  },
  {
   "cell_type": "code",
   "execution_count": 204,
   "metadata": {},
   "outputs": [
    {
     "data": {
      "text/plain": [
       "'u_505'"
      ]
     },
     "execution_count": 204,
     "metadata": {},
     "output_type": "execute_result"
    }
   ],
   "source": [
    "user = random.choice(users)\n",
    "user"
   ]
  },
  {
   "cell_type": "code",
   "execution_count": 205,
   "metadata": {},
   "outputs": [
    {
     "name": "stdout",
     "output_type": "stream",
     "text": [
      "Favourite genre  g_horror\n",
      "m_6731: Day of the Dead (1985) \n",
      "m_2867: Fright Night (1985) \n",
      "m_103688: Conjuring, The (2013) \n",
      "m_968: Night of the Living Dead (1968) \n",
      "m_3917: Hellraiser (1987) \n",
      "\n",
      "m_6731 : ['g_horror', 'g_sci-fi', 'g_thriller']\n",
      "m_2867 : ['g_comedy', 'g_horror', 'g_thriller']\n",
      "m_103688 : ['g_horror', 'g_thriller']\n",
      "m_968 : ['g_horror', 'g_sci-fi', 'g_thriller']\n",
      "m_3917 : ['g_horror']\n"
     ]
    }
   ],
   "source": [
    "m = k_most_similar_from_favourite_genre(user, 5, embeddings, euclidian_distance)\n",
    "print_titles(m)\n",
    "print()\n",
    "print_genres(m)"
   ]
  },
  {
   "cell_type": "code",
   "execution_count": 206,
   "metadata": {},
   "outputs": [
    {
     "name": "stdout",
     "output_type": "stream",
     "text": [
      "Favourite genre  g_romance\n",
      "m_4105: Evil Dead, The (1981) \n",
      "m_53972: Live Free or Die Hard (2007) \n",
      "m_2841: Stir of Echoes (1999) \n",
      "m_57368: Cloverfield (2008) \n",
      "m_98961: Zero Dark Thirty (2012) \n",
      "\n",
      "m_4105 : ['g_fantasy', 'g_horror', 'g_thriller']\n",
      "m_53972 : ['g_action', 'g_adventure', 'g_crime', 'g_thriller']\n",
      "m_2841 : ['g_horror', 'g_mystery', 'g_thriller']\n",
      "m_57368 : ['g_action', 'g_mystery', 'g_sci-fi', 'g_thriller']\n",
      "m_98961 : ['g_action', 'g_drama', 'g_thriller']\n"
     ]
    }
   ],
   "source": [
    "m = k_most_similar_from_favourite_genre(user, 5, embeddings, cosine_distance)\n",
    "print_titles(m)\n",
    "print()\n",
    "print_genres(m)"
   ]
  },
  {
   "cell_type": "code",
   "execution_count": 207,
   "metadata": {},
   "outputs": [],
   "source": [
    "# sprobujmy czegos bardziej skomplikowanego\n",
    "#   znajdz ulubiony gatunek filmowy uzytkownika\n",
    "#   a nastepnie zaproponuj K filmow z tego gatunku - ale nie tych najblizszych uzytkownikowi\n",
    "#   (zaproponuj, w jaki sposob dobrac filmy interesujace, ale nie z najblizszego otoczenia)\n",
    "\n",
    "def k_from_favourite_genre(user_id, K, embeddings, distance_fun):\n",
    "    genre_distances = [(gid, distance_fun(embeddings[user_id], embeddings[gid])) for gid in genres] \n",
    "    genre = sorted(genre_distances, key=lambda x: x[1])[0][0]\n",
    "    print('Favourite genre ', genre)\n",
    "    distances = [(mid, distance_fun(embeddings[genre], embeddings[mid])) for mid in movies] \n",
    "    distanced = list(map(lambda x: x[0], sorted(distances, key=lambda x: x[1])[len(distances)//10:len(distances)//10*5]))\n",
    "    return random.choices(distanced, k=k)"
   ]
  },
  {
   "cell_type": "code",
   "execution_count": 208,
   "metadata": {},
   "outputs": [
    {
     "name": "stdout",
     "output_type": "stream",
     "text": [
      "Favourite genre  g_horror\n",
      "m_105746: UnHung Hero (2013) \n",
      "m_8813: We Don't Live Here Anymore (2004) \n",
      "m_5294: Frailty (2001) \n",
      "m_1652: Year of the Horse (1997) \n",
      "m_128366: Patton Oswalt: Tragedy Plus Comedy Equals Time (2014) \n",
      "\n",
      "m_105746 : ['g_documentary']\n",
      "m_8813 : ['g_drama']\n",
      "m_5294 : ['g_crime', 'g_drama', 'g_thriller']\n",
      "m_1652 : ['g_documentary']\n",
      "m_128366 : ['g_comedy']\n"
     ]
    }
   ],
   "source": [
    "m = k_from_favourite_genre(user, 5, embeddings, euclidian_distance)\n",
    "print_titles(m)\n",
    "print()\n",
    "print_genres(m)"
   ]
  },
  {
   "cell_type": "code",
   "execution_count": 209,
   "metadata": {},
   "outputs": [
    {
     "name": "stdout",
     "output_type": "stream",
     "text": [
      "Favourite genre  g_romance\n",
      "m_93766: Wrath of the Titans (2012) \n",
      "m_1230: Annie Hall (1977) \n",
      "m_2078: Jungle Book, The (1967) \n",
      "m_61024: Pineapple Express (2008) \n",
      "m_163639: DC Super Hero Girls: Hero of the Year (2016) \n",
      "\n",
      "m_93766 : ['g_action', 'g_adventure', 'g_fantasy', 'g_imax']\n",
      "m_1230 : ['g_comedy', 'g_romance']\n",
      "m_2078 : ['g_animation', 'g_children', 'g_comedy', 'g_musical']\n",
      "m_61024 : ['g_action', 'g_comedy', 'g_crime']\n",
      "m_163639 : ['g_animation']\n"
     ]
    }
   ],
   "source": [
    "m = k_from_favourite_genre(user, 5, embeddings, cosine_distance)\n",
    "print_titles(m)\n",
    "print()\n",
    "print_genres(m)"
   ]
  },
  {
   "cell_type": "code",
   "execution_count": 210,
   "metadata": {},
   "outputs": [],
   "source": [
    "# Na koniec najbardziej skomplikowany algorytm - odpowiednik \"Radia utworu\" w Spotify.\n",
    "#   Zaczynamy od jednego filmu, a nastepnie wyznaczamy kolejne, wedrujac po przestrzeni, w ktorej wszystkie elementy sa osadzone.\n",
    "#   Zaproponuj, jak zdefiniowac podzbior filmow, z ktorych bedziemy wybierac (np. filmy odlegle o min. a i max. b od danego)\n",
    "#   oraz jak generowac kolejny skok (tak, zeby seria rekomendacji nie byla zbyt monotonna, ale rownoczesnie zgodna z gustem uzytkownika)\n",
    "\n",
    "def get_playlist(start_movie_id, user_id, K, embeddings):\n",
    "    # ...\n",
    "    return playlist"
   ]
  }
 ],
 "metadata": {
  "kernelspec": {
   "display_name": "Python 3 (ipykernel)",
   "language": "python",
   "name": "python3"
  },
  "language_info": {
   "codemirror_mode": {
    "name": "ipython",
    "version": 3
   },
   "file_extension": ".py",
   "mimetype": "text/x-python",
   "name": "python",
   "nbconvert_exporter": "python",
   "pygments_lexer": "ipython3",
   "version": "3.9.7"
  }
 },
 "nbformat": 4,
 "nbformat_minor": 4
}
